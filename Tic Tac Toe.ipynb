{
 "cells": [
  {
   "cell_type": "markdown",
   "id": "1379b846",
   "metadata": {},
   "source": [
    "### Today we are going to make a Tic Tac Toe game in Python using two techniques\n",
    "\n"
   ]
  },
  {
   "cell_type": "markdown",
   "id": "634ff346",
   "metadata": {},
   "source": [
    "### 1) Without using Tkinter"
   ]
  },
  {
   "cell_type": "code",
   "execution_count": 2,
   "id": "1bf5602f",
   "metadata": {},
   "outputs": [],
   "source": [
    "values = [\"?\",\"?\",\"?\",\n",
    "          \"?\",\"?\",\"?\",\n",
    "          \"?\",\"?\",\"?\"]"
   ]
  },
  {
   "cell_type": "code",
   "execution_count": 3,
   "id": "c89691fd",
   "metadata": {},
   "outputs": [],
   "source": [
    "game_continue = True\n",
    "winner = None\n",
    "current_player = \"X\""
   ]
  },
  {
   "cell_type": "code",
   "execution_count": 4,
   "id": "c3d71069",
   "metadata": {},
   "outputs": [],
   "source": [
    "# Function to print tic tac toe board\n",
    "def display_board(values):\n",
    "    print(\"\\n\")\n",
    "    print(\"\\t    |     |\")\n",
    "    print(\"\\t  {} |  {}  |  {}\".format(values[0],values[1],values[2]))\n",
    "    print('\\t____|_____|_____')\n",
    "    \n",
    "    print(\"\\t    |     |\")\n",
    "    print(\"\\t  {} |  {}  |  {}\".format(values[3],values[4],values[5]))\n",
    "    print('\\t____|_____|_____')\n",
    "    \n",
    "    print(\"\\t    |     |\")\n",
    "    print(\"\\t  {} |  {}  |  {}\".format(values[6],values[7],values[8]))\n",
    "    print(\"\\t    |     |\")\n",
    "   \n",
    "    \n",
    "    \n",
    "    \n",
    "        "
   ]
  },
  {
   "cell_type": "code",
   "execution_count": 5,
   "id": "0d117d7c",
   "metadata": {},
   "outputs": [
    {
     "name": "stdout",
     "output_type": "stream",
     "text": [
      "\n",
      "\n",
      "\t    |     |\n",
      "\t  ? |  ?  |  ?\n",
      "\t____|_____|_____\n",
      "\t    |     |\n",
      "\t  ? |  ?  |  ?\n",
      "\t____|_____|_____\n",
      "\t    |     |\n",
      "\t  ? |  ?  |  ?\n",
      "\t    |     |\n"
     ]
    }
   ],
   "source": [
    "display_board(values)"
   ]
  },
  {
   "cell_type": "markdown",
   "id": "561b21c3",
   "metadata": {},
   "source": [
    "#### This is how the board will look like(inputting default values)"
   ]
  },
  {
   "cell_type": "code",
   "execution_count": 6,
   "id": "17fec0a0",
   "metadata": {},
   "outputs": [
    {
     "name": "stdout",
     "output_type": "stream",
     "text": [
      "\n",
      "\n",
      "\t    |     |\n",
      "\t  1 |  2  |  3\n",
      "\t____|_____|_____\n",
      "\t    |     |\n",
      "\t  4 |  5  |  6\n",
      "\t____|_____|_____\n",
      "\t    |     |\n",
      "\t  7 |  8  |  9\n",
      "\t    |     |\n"
     ]
    }
   ],
   "source": [
    "display_board([1,2,3,4,5,6,7,8,9])"
   ]
  },
  {
   "cell_type": "code",
   "execution_count": 7,
   "id": "3dbb9749",
   "metadata": {},
   "outputs": [],
   "source": [
    "def handle_turn(player):\n",
    "    print(player + \"'s turn.\")\n",
    "    position = input(\"Choose a position from (1-9) :\")\n",
    "    valid = False\n",
    "    while not valid:\n",
    "        while position not in [\"1\",\"2\",\"3\",\"4\",\"5\",\"6\",\"7\",\"8\",\"9\"]:\n",
    "            position = input(\"Choose a position from (1-9) :\")\n",
    "        position = int(position) - 1\n",
    "        \n",
    "        if values[position] == \"?\":\n",
    "            valid = True\n",
    "        else:\n",
    "            print(\"You can't go there. Go again.\")\n",
    "    values[position] = player\n",
    "    display_board(values)\n",
    "            "
   ]
  },
  {
   "cell_type": "code",
   "execution_count": 8,
   "id": "6d2483d8",
   "metadata": {},
   "outputs": [],
   "source": [
    "def play_game():\n",
    "    display_board(values)\n",
    "    while game_continue:\n",
    "        handle_turn(current_player)\n",
    "        check_game_over()\n",
    "        flip_turn()\n",
    "    if winner == \"X\" or winner == \"O\":\n",
    "        print(winner + \" won.\")\n",
    "    elif winner == None:\n",
    "        print(\"Tie.\")\n",
    "        \n",
    "        "
   ]
  },
  {
   "cell_type": "code",
   "execution_count": 9,
   "id": "ee738663",
   "metadata": {},
   "outputs": [],
   "source": [
    "def check_game_over():\n",
    "    check_for_winner()\n",
    "    check_for_tie()"
   ]
  },
  {
   "cell_type": "code",
   "execution_count": 10,
   "id": "69d711f1",
   "metadata": {},
   "outputs": [],
   "source": [
    "def check_for_winner():\n",
    "    global winner\n",
    "    row_winner = check_rows()\n",
    "    column_winner = check_columns()\n",
    "    diagonal_winner = check_diagonals()\n",
    "    if row_winner:\n",
    "        winner = row_winner\n",
    "    elif column_winner:\n",
    "        winner = column_winner\n",
    "    elif diagonal_winner:\n",
    "        winner = diagonal_winner\n",
    "    else:\n",
    "        winner = None\n",
    "     "
   ]
  },
  {
   "cell_type": "code",
   "execution_count": 11,
   "id": "4a54bfe8",
   "metadata": {},
   "outputs": [],
   "source": [
    "def check_rows():\n",
    "    global game_continue\n",
    "    row1 = values[0] == values[1] == values[2] != \"?\"\n",
    "    row2 = values[3] == values[4] == values[5] != \"?\"\n",
    "    row3 = values[6] == values[7] == values[8] != \"?\"\n",
    "    if row1 or row2 or row3:\n",
    "        game_continue = False\n",
    "    if row1:\n",
    "        return values[0]\n",
    "    elif row2:\n",
    "        return values[3]\n",
    "    elif row3:\n",
    "        return values[4]\n",
    "    else:\n",
    "        return None\n",
    "    "
   ]
  },
  {
   "cell_type": "code",
   "execution_count": 12,
   "id": "d695ccd6",
   "metadata": {},
   "outputs": [],
   "source": [
    "def check_columns():\n",
    "    global game_continue\n",
    "    column1 = values[0] == values[3] == values[6] != \"?\"\n",
    "    column2 = values[1] == values[4] == values[7] != \"?\"\n",
    "    column3 = values[2] == values[5] == values[8] != \"?\"\n",
    "    if column1 or column2 or column3:\n",
    "        game_continue = False\n",
    "    if column1:\n",
    "        return values[0]\n",
    "    elif column2:\n",
    "        return values[1]\n",
    "    elif column3:\n",
    "        return values[2]\n",
    "    else:\n",
    "        return None\n",
    "    "
   ]
  },
  {
   "cell_type": "code",
   "execution_count": 13,
   "id": "29fe541d",
   "metadata": {},
   "outputs": [],
   "source": [
    "def check_diagonals():\n",
    "    global game_continue\n",
    "    diagonal1 = values[0] == values[4] == values[8] != \"?\"\n",
    "    diagonal2 = values[2] == values[4] == values[6] != \"?\"\n",
    "    if diagonal1 or diagonal2:\n",
    "        game_continue = False\n",
    "    if diagonal1:\n",
    "        return values[0]\n",
    "    elif diagonal2:\n",
    "        return values[2]\n",
    "    else:\n",
    "        return None"
   ]
  },
  {
   "cell_type": "code",
   "execution_count": 14,
   "id": "c6d6a3e4",
   "metadata": {},
   "outputs": [],
   "source": [
    "def check_for_tie():\n",
    "    global game_continue\n",
    "    if \"?\" not in values:\n",
    "        game_continue = False\n",
    "        return True\n",
    "    else:\n",
    "        return False"
   ]
  },
  {
   "cell_type": "code",
   "execution_count": 15,
   "id": "8f9af15c",
   "metadata": {},
   "outputs": [],
   "source": [
    "def flip_turn():\n",
    "    global current_player\n",
    "    if current_player == \"X\":\n",
    "        current_player = \"O\"\n",
    "    elif current_player == \"O\":\n",
    "        current_player = \"X\"\n",
    "        "
   ]
  },
  {
   "cell_type": "code",
   "execution_count": 16,
   "id": "4f7eb7ff",
   "metadata": {},
   "outputs": [],
   "source": [
    "def replay():\n",
    "    answer = input(\"Want to Play Again? Enter YES or NO  :  \") #Type answer in UPPERCASE only!!\n",
    "    return answer == \"YES\" "
   ]
  },
  {
   "cell_type": "code",
   "execution_count": null,
   "id": "85cb85b9",
   "metadata": {},
   "outputs": [
    {
     "name": "stdout",
     "output_type": "stream",
     "text": [
      "Welcome to TIC TAC TOE\n",
      "Credits: SRIJAN PRAMANIK\n",
      "\n",
      "\n",
      "\t    |     |\n",
      "\t  ? |  ?  |  ?\n",
      "\t____|_____|_____\n",
      "\t    |     |\n",
      "\t  ? |  ?  |  ?\n",
      "\t____|_____|_____\n",
      "\t    |     |\n",
      "\t  ? |  ?  |  ?\n",
      "\t    |     |\n",
      "X's turn.\n"
     ]
    }
   ],
   "source": [
    "print(\"Welcome to TIC TAC TOE\")\n",
    "print(\"Credits: SRIJAN PRAMANIK\")\n",
    "while True:\n",
    "    play_game()\n",
    "    if not replay():\n",
    "        break\n",
    "    values = [\"?\",\"?\",\"?\",\n",
    "              \"?\",\"?\",\"?\",\n",
    "              \"?\",\"?\",\"?\"]\n",
    "    game_continue = True\n",
    "    winner = None\n",
    "    current_player = \"X\"\n",
    "    \n",
    "    \n",
    "    \n",
    "    \n",
    "    "
   ]
  },
  {
   "cell_type": "markdown",
   "id": "1eee4d32",
   "metadata": {},
   "source": [
    "### 2) Using Tkinter"
   ]
  },
  {
   "cell_type": "markdown",
   "id": "e31b2207",
   "metadata": {},
   "source": [
    "#### Stay tuned for more updates..................................................................................................."
   ]
  },
  {
   "cell_type": "code",
   "execution_count": null,
   "id": "6a35880b",
   "metadata": {},
   "outputs": [],
   "source": []
  }
 ],
 "metadata": {
  "kernelspec": {
   "display_name": "Python 3 (ipykernel)",
   "language": "python",
   "name": "python3"
  },
  "language_info": {
   "codemirror_mode": {
    "name": "ipython",
    "version": 3
   },
   "file_extension": ".py",
   "mimetype": "text/x-python",
   "name": "python",
   "nbconvert_exporter": "python",
   "pygments_lexer": "ipython3",
   "version": "3.9.12"
  }
 },
 "nbformat": 4,
 "nbformat_minor": 5
}
