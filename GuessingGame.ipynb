{
 "cells": [
  {
   "cell_type": "code",
   "execution_count": 1,
   "id": "3b56d324",
   "metadata": {},
   "outputs": [],
   "source": [
    "from random import randint\n",
    "a = randint(1,100)"
   ]
  },
  {
   "cell_type": "code",
   "execution_count": null,
   "id": "bf9994df",
   "metadata": {},
   "outputs": [],
   "source": []
  },
  {
   "cell_type": "code",
   "execution_count": 2,
   "id": "e1876e39",
   "metadata": {},
   "outputs": [
    {
     "name": "stdout",
     "output_type": "stream",
     "text": [
      "WELCOME TO GUESS ME!\n",
      "I'm thinking of a number between 1 and 100\n",
      "If your guess is more than 10 away from my number, I'll tell you you're COLD\n",
      "If your guess is within 10 of my number, I'll tell you you're WARM\n",
      "If your guess is farther than your most recent guess, I'll say you're getting COLDER\n",
      "If your guess is closer than your most recent guess, I'll say you're getting WARMER\n",
      "LET'S PLAY!\n"
     ]
    }
   ],
   "source": [
    "print(\"WELCOME TO GUESS ME!\")\n",
    "print(\"I'm thinking of a number between 1 and 100\")\n",
    "print(\"If your guess is more than 10 away from my number, I'll tell you you're COLD\")\n",
    "print(\"If your guess is within 10 of my number, I'll tell you you're WARM\")\n",
    "print(\"If your guess is farther than your most recent guess, I'll say you're getting COLDER\")\n",
    "print(\"If your guess is closer than your most recent guess, I'll say you're getting WARMER\")\n",
    "print(\"LET'S PLAY!\")"
   ]
  },
  {
   "cell_type": "code",
   "execution_count": 3,
   "id": "e648ec14",
   "metadata": {},
   "outputs": [],
   "source": [
    "# Guessing Game Challenge\n",
    "\n",
    "#Let's use `while` loops to create a guessing game.\n",
    "\n",
    "#The Challenge:\n",
    "\n",
    "#Write a program that picks a random integer from 1 to 100, and has players guess the number. The rules are:\n",
    "\n",
    "#1. If a player's guess is less than 1 or greater than 100, say \"OUT OF BOUNDS\"\n",
    "#2. On a player's first turn, if their guess is\n",
    " #* within 10 of the number, return \"WARM!\"\n",
    " #* further than 10 away from the number, return \"COLD!\"\n",
    "#3. On all subsequent turns, if a guess is \n",
    " #* closer to the number than the previous guess return \"WARMER!\"\n",
    " #* farther from the number than the previous guess, return \"COLDER!\"\n",
    "#4. When the player's guess equals the number, tell them they've guessed correctly *and* how many guesses it took!\n",
    "\n",
    "#You can try this from scratch, or follow the steps outlined below. A separate Solution notebook has been provided. Good luck!\n"
   ]
  },
  {
   "cell_type": "code",
   "execution_count": 4,
   "id": "00a10819",
   "metadata": {},
   "outputs": [],
   "source": [
    "guesses = [0]"
   ]
  },
  {
   "cell_type": "code",
   "execution_count": 5,
   "id": "040bc6ce",
   "metadata": {},
   "outputs": [
    {
     "name": "stdout",
     "output_type": "stream",
     "text": [
      "I'm thinking of a number between 1 and 100.\n",
      "  What is your guess? 65\n",
      "WARM\n",
      "I'm thinking of a number between 1 and 100.\n",
      "  What is your guess? 68\n",
      "WARMER\n",
      "I'm thinking of a number between 1 and 100.\n",
      "  What is your guess? 75\n",
      "COLDER\n",
      "I'm thinking of a number between 1 and 100.\n",
      "  What is your guess? 72\n",
      "WARMER\n",
      "I'm thinking of a number between 1 and 100.\n",
      "  What is your guess? 74\n",
      "COLDER\n",
      "I'm thinking of a number between 1 and 100.\n",
      "  What is your guess? 73\n",
      "WARMER\n",
      "I'm thinking of a number between 1 and 100.\n",
      "  What is your guess? 71\n",
      "CONGRATULATIONS, YOU GUESSED IT IN ONLY 7 GUESSES!!\n"
     ]
    }
   ],
   "source": [
    "while True:\n",
    "    guess = int(input(\"I'm thinking of a number between 1 and 100.\\n  What is your guess? \"))\n",
    "    if (guess<1) or (guess>100):\n",
    "        print(\"OUT OF BOUNDS\")\n",
    "        continue\n",
    "    if (guess == a):\n",
    "        print(f'CONGRATULATIONS, YOU GUESSED IT IN ONLY {len(guesses)} GUESSES!!')\n",
    "        break\n",
    "    guesses.append(guess)\n",
    "    if guesses[-2]:\n",
    "        if abs(a - guess) < abs(a-guesses[-2]):\n",
    "            print(\"WARMER\")\n",
    "        else:\n",
    "            print(\"COLDER\")\n",
    "    else:\n",
    "        if abs(a-guess)<=10:\n",
    "            print(\"WARM\")\n",
    "        else:\n",
    "            print(\"COLD\")\n",
    "            \n",
    "        \n",
    "        "
   ]
  },
  {
   "cell_type": "code",
   "execution_count": null,
   "id": "702d9ca4",
   "metadata": {},
   "outputs": [],
   "source": []
  }
 ],
 "metadata": {
  "kernelspec": {
   "display_name": "Python 3 (ipykernel)",
   "language": "python",
   "name": "python3"
  },
  "language_info": {
   "codemirror_mode": {
    "name": "ipython",
    "version": 3
   },
   "file_extension": ".py",
   "mimetype": "text/x-python",
   "name": "python",
   "nbconvert_exporter": "python",
   "pygments_lexer": "ipython3",
   "version": "3.9.12"
  }
 },
 "nbformat": 4,
 "nbformat_minor": 5
}
